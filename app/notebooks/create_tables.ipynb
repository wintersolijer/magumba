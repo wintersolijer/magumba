{
 "cells": [
  {
   "cell_type": "code",
   "execution_count": 2,
   "metadata": {},
   "outputs": [],
   "source": [
    "import sqlite3"
   ]
  },
  {
   "cell_type": "code",
   "execution_count": 3,
   "metadata": {},
   "outputs": [
    {
     "data": {
      "text/plain": [
       "<_io.TextIOWrapper name='../database/db.sql' mode='w+' encoding='UTF-8'>"
      ]
     },
     "execution_count": 3,
     "metadata": {},
     "output_type": "execute_result"
    }
   ],
   "source": [
    "# creating the db file\n",
    "# open(\"../database/db.sql\", \"w+\")\n"
   ]
  },
  {
   "cell_type": "code",
   "execution_count": 3,
   "metadata": {},
   "outputs": [],
   "source": [
    "conn = sqlite3.connect(\"../database/db.sql\")\n",
    "cur = conn.cursor()"
   ]
  },
  {
   "cell_type": "code",
   "execution_count": 5,
   "metadata": {},
   "outputs": [],
   "source": [
    "CREATE_PERSON_TABLE = \"\"\" \n",
    "CREATE TABLE Person (\n",
    "    id TEXT PRIMARY KEY,\n",
    "    email TEXT NOT NULL,\n",
    "    password_hash TEXT NOT NULL,\n",
    "    birth_date DATE,\n",
    "    last_name TEXT,\n",
    "    first_name TEXT,\n",
    "    points INTEGER,\n",
    "    role TEXT\n",
    ");\n",
    "\"\"\"\n",
    "cur.execute(CREATE_PERSON_TABLE)\n",
    "conn.commit()"
   ]
  },
  {
   "cell_type": "code",
   "execution_count": 6,
   "metadata": {},
   "outputs": [],
   "source": [
    "CREATE_COURSE_PARTICIPANT_MAPPING = \"\"\"\n",
    "CREATE TABLE CourseParticipantMapping (\n",
    "    course_id TEXT,\n",
    "    person_id TEXT\n",
    ");\n",
    "\"\"\"\n",
    "cur.execute(CREATE_COURSE_PARTICIPANT_MAPPING)\n",
    "conn.commit()"
   ]
  },
  {
   "cell_type": "code",
   "execution_count": 7,
   "metadata": {},
   "outputs": [],
   "source": [
    "CREATE_COURSE_QUESTION_MAPPING = \"\"\"\n",
    "CREATE TABLE CourseQuestionMapping (\n",
    "    course_id TEXT,\n",
    "    question_id TEXT\n",
    ");\n",
    "\"\"\"\n",
    "cur.execute(CREATE_COURSE_QUESTION_MAPPING)\n",
    "conn.commit()"
   ]
  },
  {
   "cell_type": "code",
   "execution_count": 8,
   "metadata": {},
   "outputs": [],
   "source": [
    "CREATE_COURSE_INSTRUCTOR_MAPPING = \"\"\"\n",
    "CREATE TABLE CourseInstructorMapping (\n",
    "    course_id TEXT,\n",
    "    person_id TEXT\n",
    ");\n",
    "\"\"\"\n",
    "cur.execute(CREATE_COURSE_INSTRUCTOR_MAPPING)\n",
    "conn.commit()"
   ]
  },
  {
   "cell_type": "code",
   "execution_count": 9,
   "metadata": {},
   "outputs": [],
   "source": [
    "CREATE_COURSE_TABLE = \"\"\"\n",
    "CREATE TABLE Course (\n",
    "    id TEXT PRIMARY KEY,\n",
    "    course_name TEXT,\n",
    "    difficulty TEXT,\n",
    "    course_description TEXT,\n",
    "    additional_information TEXT\n",
    ");\n",
    "\"\"\"\n",
    "cur.execute(CREATE_COURSE_TABLE)\n",
    "conn.commit()"
   ]
  },
  {
   "cell_type": "code",
   "execution_count": 10,
   "metadata": {},
   "outputs": [],
   "source": [
    "CREATE_QUESTION_TABLE = \"\"\"\n",
    "CREATE TABLE Question (\n",
    "    id TEXT PRIMARY KEY,\n",
    "    question_text TEXT,\n",
    "    points INTEGER\n",
    ");\n",
    "\"\"\"\n",
    "cur.execute(CREATE_QUESTION_TABLE)\n",
    "conn.commit()"
   ]
  },
  {
   "cell_type": "code",
   "execution_count": 11,
   "metadata": {},
   "outputs": [],
   "source": [
    "CREATE_ANSWER_TABLE = \"\"\"\n",
    "CREATE TABLE Answer (\n",
    "    id TEXT PRIMARY KEY,\n",
    "    question_id TEXT,\n",
    "    answer TEXT,\n",
    "    is_correct BOOLEAN,\n",
    "    explanation TEXT\n",
    ");\n",
    "\"\"\"\n",
    "cur.execute(CREATE_ANSWER_TABLE)\n",
    "conn.commit()"
   ]
  },
  {
   "cell_type": "code",
   "execution_count": 6,
   "metadata": {},
   "outputs": [
    {
     "name": "stdout",
     "output_type": "stream",
     "text": [
      "[('64dfe5f4d66af5e2993ad25a8a22d8127273cbdbf6e55bb5a7ebb92ce703353f', 'jonas.mueller@gmail.com', '42b4dd78a83dadf59a658a8c8635a33050e3d91daed09bdb66c6624701100959', '10.12.2003', 'mueller', 'jonas', 0, 'user')]\n"
     ]
    }
   ],
   "source": [
    "SELECT_PEOPLE_TABLE = \"\"\"SELECT * FROM Person\"\"\"\n",
    "f = cur.execute(SELECT_PEOPLE_TABLE)\n",
    "print(f.fetchall())"
   ]
  },
  {
   "cell_type": "code",
   "execution_count": null,
   "metadata": {},
   "outputs": [],
   "source": []
  }
 ],
 "metadata": {
  "kernelspec": {
   "display_name": "venv",
   "language": "python",
   "name": "python3"
  },
  "language_info": {
   "codemirror_mode": {
    "name": "ipython",
    "version": 3
   },
   "file_extension": ".py",
   "mimetype": "text/x-python",
   "name": "python",
   "nbconvert_exporter": "python",
   "pygments_lexer": "ipython3",
   "version": "3.10.13"
  }
 },
 "nbformat": 4,
 "nbformat_minor": 2
}
