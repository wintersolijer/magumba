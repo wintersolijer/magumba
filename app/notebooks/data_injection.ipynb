{
 "cells": [
  {
   "cell_type": "markdown",
   "metadata": {},
   "source": [
    "# Adding the test data to our database"
   ]
  },
  {
   "cell_type": "code",
   "execution_count": 31,
   "metadata": {},
   "outputs": [],
   "source": [
    "import sqlite3"
   ]
  },
  {
   "cell_type": "code",
   "execution_count": 32,
   "metadata": {},
   "outputs": [],
   "source": [
    "conn = sqlite3.connect(\"../database/db.sql\")\n",
    "cur = conn.cursor()"
   ]
  },
  {
   "cell_type": "code",
   "execution_count": 33,
   "metadata": {},
   "outputs": [],
   "source": [
    "import pandas as pd\n",
    "\n",
    "df = pd.read_csv(\"../../assets/test_questions.csv\")"
   ]
  },
  {
   "cell_type": "code",
   "execution_count": 34,
   "metadata": {},
   "outputs": [
    {
     "data": {
      "text/html": [
       "<div>\n",
       "<style scoped>\n",
       "    .dataframe tbody tr th:only-of-type {\n",
       "        vertical-align: middle;\n",
       "    }\n",
       "\n",
       "    .dataframe tbody tr th {\n",
       "        vertical-align: top;\n",
       "    }\n",
       "\n",
       "    .dataframe thead th {\n",
       "        text-align: right;\n",
       "    }\n",
       "</style>\n",
       "<table border=\"1\" class=\"dataframe\">\n",
       "  <thead>\n",
       "    <tr style=\"text-align: right;\">\n",
       "      <th></th>\n",
       "      <th>question</th>\n",
       "      <th>answer1</th>\n",
       "      <th>answer2</th>\n",
       "      <th>answer3</th>\n",
       "      <th>answer4</th>\n",
       "      <th>correct_answers</th>\n",
       "      <th>points</th>\n",
       "    </tr>\n",
       "  </thead>\n",
       "  <tbody>\n",
       "    <tr>\n",
       "      <th>0</th>\n",
       "      <td>Was ist ein großes Risiko des Klimawandels für...</td>\n",
       "      <td>Erhöhte Belastung durch hitzebedingte Krankheiten</td>\n",
       "      <td>Unterbrechung der Gesundheitsdienste durch ext...</td>\n",
       "      <td>Verbesserte Luftqualität</td>\n",
       "      <td>Sinkende Krankheitsraten</td>\n",
       "      <td>[\"Erhöhte Belastung durch hitzebedingte Krankh...</td>\n",
       "      <td>3</td>\n",
       "    </tr>\n",
       "    <tr>\n",
       "      <th>1</th>\n",
       "      <td>Welche Bevölkerungsgruppe ist am meisten vom K...</td>\n",
       "      <td>Junge Erwachsene</td>\n",
       "      <td>Kinder</td>\n",
       "      <td>Ältere Menschen</td>\n",
       "      <td>Gesunde Menschen mittleren Alters</td>\n",
       "      <td>[\"Kinder\", \"Ältere Menschen\"]</td>\n",
       "      <td>2</td>\n",
       "    </tr>\n",
       "    <tr>\n",
       "      <th>2</th>\n",
       "      <td>Wie können Einzelpersonen dazu beitragen, die ...</td>\n",
       "      <td>Öffentliche Verkehrsmittel nutzen</td>\n",
       "      <td>Weniger Fleisch konsumieren</td>\n",
       "      <td>Klimaanlagen intensiver nutzen</td>\n",
       "      <td>Mehr Auto fahren</td>\n",
       "      <td>[\"Öffentliche Verkehrsmittel nutzen\", \"Weniger...</td>\n",
       "      <td>2</td>\n",
       "    </tr>\n",
       "    <tr>\n",
       "      <th>3</th>\n",
       "      <td>Welches Gesundheitsproblem steht in direktem Z...</td>\n",
       "      <td>Herzkrankheiten</td>\n",
       "      <td>Atemwegserkrankungen</td>\n",
       "      <td>Erhöhte Inzidenz von Infektionskrankheiten</td>\n",
       "      <td>Fettleibigkeit</td>\n",
       "      <td>[\"Atemwegserkrankungen\", \"Erhöhte Inzidenz von...</td>\n",
       "      <td>1</td>\n",
       "    </tr>\n",
       "    <tr>\n",
       "      <th>4</th>\n",
       "      <td>Welches der folgenden Ziele ist ein Nachhaltig...</td>\n",
       "      <td>Bezahlbare und saubere Energie</td>\n",
       "      <td>Kein Hunger</td>\n",
       "      <td>Maximaler Ressourcenverbrauch</td>\n",
       "      <td>Unbegrenztes Wirtschaftswachstum</td>\n",
       "      <td>[\"Bezahlbare und saubere Energie\", \"Kein Hunger\"]</td>\n",
       "      <td>3</td>\n",
       "    </tr>\n",
       "  </tbody>\n",
       "</table>\n",
       "</div>"
      ],
      "text/plain": [
       "                                            question  \\\n",
       "0  Was ist ein großes Risiko des Klimawandels für...   \n",
       "1  Welche Bevölkerungsgruppe ist am meisten vom K...   \n",
       "2  Wie können Einzelpersonen dazu beitragen, die ...   \n",
       "3  Welches Gesundheitsproblem steht in direktem Z...   \n",
       "4  Welches der folgenden Ziele ist ein Nachhaltig...   \n",
       "\n",
       "                                             answer1  \\\n",
       "0  Erhöhte Belastung durch hitzebedingte Krankheiten   \n",
       "1                                   Junge Erwachsene   \n",
       "2                  Öffentliche Verkehrsmittel nutzen   \n",
       "3                                    Herzkrankheiten   \n",
       "4                     Bezahlbare und saubere Energie   \n",
       "\n",
       "                                             answer2  \\\n",
       "0  Unterbrechung der Gesundheitsdienste durch ext...   \n",
       "1                                             Kinder   \n",
       "2                        Weniger Fleisch konsumieren   \n",
       "3                               Atemwegserkrankungen   \n",
       "4                                        Kein Hunger   \n",
       "\n",
       "                                      answer3  \\\n",
       "0                    Verbesserte Luftqualität   \n",
       "1                             Ältere Menschen   \n",
       "2              Klimaanlagen intensiver nutzen   \n",
       "3  Erhöhte Inzidenz von Infektionskrankheiten   \n",
       "4               Maximaler Ressourcenverbrauch   \n",
       "\n",
       "                             answer4  \\\n",
       "0           Sinkende Krankheitsraten   \n",
       "1  Gesunde Menschen mittleren Alters   \n",
       "2                   Mehr Auto fahren   \n",
       "3                     Fettleibigkeit   \n",
       "4   Unbegrenztes Wirtschaftswachstum   \n",
       "\n",
       "                                     correct_answers  points  \n",
       "0  [\"Erhöhte Belastung durch hitzebedingte Krankh...       3  \n",
       "1                      [\"Kinder\", \"Ältere Menschen\"]       2  \n",
       "2  [\"Öffentliche Verkehrsmittel nutzen\", \"Weniger...       2  \n",
       "3  [\"Atemwegserkrankungen\", \"Erhöhte Inzidenz von...       1  \n",
       "4  [\"Bezahlbare und saubere Energie\", \"Kein Hunger\"]       3  "
      ]
     },
     "execution_count": 34,
     "metadata": {},
     "output_type": "execute_result"
    }
   ],
   "source": [
    "df.head()"
   ]
  },
  {
   "cell_type": "code",
   "execution_count": 35,
   "metadata": {},
   "outputs": [],
   "source": [
    "# Function to clear the Question and Answer tables\n",
    "def clear_tables():\n",
    "    cur.execute(\"DELETE FROM Answer\")\n",
    "    cur.execute(\"DELETE FROM Question\")\n",
    "    conn.commit()\n",
    "clear_tables()\n"
   ]
  },
  {
   "cell_type": "code",
   "execution_count": 36,
   "metadata": {},
   "outputs": [
    {
     "name": "stdout",
     "output_type": "stream",
     "text": [
      "3\n",
      "2\n",
      "2\n",
      "1\n",
      "3\n",
      "5\n",
      "2\n",
      "3\n",
      "4\n",
      "2\n",
      "1\n",
      "3\n",
      "2\n",
      "4\n",
      "3\n",
      "2\n",
      "4\n",
      "2\n",
      "1\n",
      "4\n"
     ]
    }
   ],
   "source": [
    "import csv\n",
    "import uuid\n",
    "import ast\n",
    "\n",
    "# Function to insert data from CSV into the database\n",
    "def insert_data_from_csv(csv_file):\n",
    "    with open(csv_file, newline='', encoding='utf-8') as f:\n",
    "        reader = csv.DictReader(f)\n",
    "        \n",
    "        for row in reader:\n",
    "            # generate a unique ID for the question\n",
    "            question_id = str(uuid.uuid4())\n",
    "            question_text = row['question']\n",
    "            points = int(row['points'])\n",
    "            print(points)\n",
    "\n",
    "\n",
    "            # insert the question into the Question table\n",
    "            cur.execute(f\"INSERT INTO Question (id, question_text, points) VALUES ('{question_id}', '{question_text}', {points})\")\n",
    "            \n",
    "            # extract answers and the correct answers list\n",
    "            answers = [row['answer1'], row['answer2'], row['answer3'], row['answer4']]\n",
    "            correct_answers = ast.literal_eval(row['correct_answers'])  # Convert correct_answers string to list\n",
    "            \n",
    "            # insert each answer into the Answer table\n",
    "            for answer in answers:\n",
    "                answer_id = str(uuid.uuid4())  # generate unique ID for each answer\n",
    "                \n",
    "                # determine if the current answer is correct\n",
    "                is_correct = answer in correct_answers\n",
    "                \n",
    "                # Insert the answer into the Answer table\n",
    "                cur.execute(\"INSERT INTO Answer (id, question_id, answer, is_correct, explanation) VALUES (?, ?, ?, ?, ?)\",\n",
    "                            (answer_id, question_id, answer, is_correct, \"\"))  # empty explanation for now\n",
    "            \n",
    "        conn.commit()\n",
    "\n",
    "csv_file = \"../../assets/test_questions.csv\"\n",
    "insert_data_from_csv(csv_file)\n",
    "\n"
   ]
  },
  {
   "cell_type": "code",
   "execution_count": 37,
   "metadata": {},
   "outputs": [
    {
     "name": "stdout",
     "output_type": "stream",
     "text": [
      "('92df1ccc-fb5b-49af-a48e-3862127760f6', 'f3449b72-fc18-454d-b7c3-5e1ddac307ab', 'Erhöhte Belastung durch hitzebedingte Krankheiten', 1, '')\n",
      "('2e0e5975-960b-4e60-83cd-67368084e50e', 'f3449b72-fc18-454d-b7c3-5e1ddac307ab', 'Unterbrechung der Gesundheitsdienste durch extreme Wetterereignisse', 1, '')\n",
      "('202a2db8-a446-43a8-b75d-5b0f09fa4bb5', 'f3449b72-fc18-454d-b7c3-5e1ddac307ab', 'Verbesserte Luftqualität', 0, '')\n",
      "('356a8b60-eb5d-4133-abc4-52f71fba0ef2', 'f3449b72-fc18-454d-b7c3-5e1ddac307ab', 'Sinkende Krankheitsraten', 0, '')\n",
      "('0b5d1a1e-7724-4c44-a855-d8d78fbe74b5', '6454e9f8-92e9-41b7-a57c-ac0a164f5d9b', 'Junge Erwachsene', 0, '')\n",
      "('80038f14-5c01-41d8-aa0e-fd7254936fad', '6454e9f8-92e9-41b7-a57c-ac0a164f5d9b', 'Kinder', 1, '')\n",
      "('c538f7f7-4a29-446e-8b49-f642aee95dd5', '6454e9f8-92e9-41b7-a57c-ac0a164f5d9b', 'Ältere Menschen', 1, '')\n",
      "('3ea44daf-dd8c-4f5e-b801-80d53e4b9de5', '6454e9f8-92e9-41b7-a57c-ac0a164f5d9b', 'Gesunde Menschen mittleren Alters', 0, '')\n",
      "('396fe896-dbca-40c1-8f84-6f1d8c8cd788', '0e1021be-75aa-46cd-bca3-3a1ff16232af', 'Öffentliche Verkehrsmittel nutzen', 1, '')\n",
      "('5904f113-d65d-4a9c-bd2d-76cbe5a5f43b', '0e1021be-75aa-46cd-bca3-3a1ff16232af', 'Weniger Fleisch konsumieren', 1, '')\n",
      "('588be3e5-3706-4d79-b6dc-5943f00651d6', '0e1021be-75aa-46cd-bca3-3a1ff16232af', 'Klimaanlagen intensiver nutzen', 0, '')\n",
      "('1e094588-c34e-4c57-88d3-61a57dca40d3', '0e1021be-75aa-46cd-bca3-3a1ff16232af', 'Mehr Auto fahren', 0, '')\n",
      "('1e46a875-8547-429e-b853-fe489f85166c', '19afe325-757f-4f0e-8a5c-195a8b495356', 'Herzkrankheiten', 0, '')\n",
      "('5d350f29-3fa1-4ae7-9fc2-f2c21e40a20a', '19afe325-757f-4f0e-8a5c-195a8b495356', 'Atemwegserkrankungen', 1, '')\n",
      "('944b1b4b-3f57-485d-bdf4-098b9c0e797e', '19afe325-757f-4f0e-8a5c-195a8b495356', 'Erhöhte Inzidenz von Infektionskrankheiten', 1, '')\n",
      "('fb437904-ef55-4ca0-915f-387551c400e4', '19afe325-757f-4f0e-8a5c-195a8b495356', 'Fettleibigkeit', 0, '')\n",
      "('ddeeb6bf-7f71-4c62-b8b3-9e959baca2fe', '545f77ae-80ed-4bc7-9dc5-826ca9bcbe3d', 'Bezahlbare und saubere Energie', 1, '')\n",
      "('7ae08953-e762-4d9d-bdfb-86fb3ce872c5', '545f77ae-80ed-4bc7-9dc5-826ca9bcbe3d', 'Kein Hunger', 1, '')\n",
      "('ffa59d59-d5ee-4784-bce8-66c5791de4dd', '545f77ae-80ed-4bc7-9dc5-826ca9bcbe3d', 'Maximaler Ressourcenverbrauch', 0, '')\n",
      "('27acf3e5-3180-47b6-990e-32b7563570c3', '545f77ae-80ed-4bc7-9dc5-826ca9bcbe3d', 'Unbegrenztes Wirtschaftswachstum', 0, '')\n"
     ]
    }
   ],
   "source": [
    "# testing how Answer table looks like\n",
    "cur.execute(\"\"\"\n",
    "    SELECT *\n",
    "    FROM ANSWER\n",
    "    LIMIT 20\n",
    "\"\"\")\n",
    "rows = cur.fetchall()\n",
    "\n",
    "for row in rows:\n",
    "    print(row)\n"
   ]
  },
  {
   "cell_type": "code",
   "execution_count": 38,
   "metadata": {},
   "outputs": [
    {
     "name": "stdout",
     "output_type": "stream",
     "text": [
      "('f3449b72-fc18-454d-b7c3-5e1ddac307ab', 'Was ist ein großes Risiko des Klimawandels für Gesundheitssysteme?', 3)\n",
      "('6454e9f8-92e9-41b7-a57c-ac0a164f5d9b', 'Welche Bevölkerungsgruppe ist am meisten vom Klimawandel betroffen?', 2)\n",
      "('0e1021be-75aa-46cd-bca3-3a1ff16232af', 'Wie können Einzelpersonen dazu beitragen, die globale Erwärmung zu reduzieren?', 2)\n",
      "('19afe325-757f-4f0e-8a5c-195a8b495356', 'Welches Gesundheitsproblem steht in direktem Zusammenhang mit dem Klimawandel?', 1)\n",
      "('545f77ae-80ed-4bc7-9dc5-826ca9bcbe3d', 'Welches der folgenden Ziele ist ein Nachhaltigkeitsziel (SDG)?', 3)\n"
     ]
    }
   ],
   "source": [
    "# testing how Question table looks like\n",
    "cur.execute(\"\"\"\n",
    "    SELECT *\n",
    "    FROM Question\n",
    "    LIMIT 5\n",
    "\"\"\")\n",
    "rows = cur.fetchall()\n",
    "\n",
    "for row in rows:\n",
    "    print(row)"
   ]
  },
  {
   "cell_type": "code",
   "execution_count": 39,
   "metadata": {},
   "outputs": [
    {
     "name": "stdout",
     "output_type": "stream",
     "text": [
      "('Was ist ein großes Risiko des Klimawandels für Gesundheitssysteme?', 'Erhöhte Belastung durch hitzebedingte Krankheiten', 1)\n",
      "('Was ist ein großes Risiko des Klimawandels für Gesundheitssysteme?', 'Unterbrechung der Gesundheitsdienste durch extreme Wetterereignisse', 1)\n",
      "('Was ist ein großes Risiko des Klimawandels für Gesundheitssysteme?', 'Verbesserte Luftqualität', 0)\n",
      "('Was ist ein großes Risiko des Klimawandels für Gesundheitssysteme?', 'Sinkende Krankheitsraten', 0)\n",
      "('Welche Bevölkerungsgruppe ist am meisten vom Klimawandel betroffen?', 'Junge Erwachsene', 0)\n",
      "('Welche Bevölkerungsgruppe ist am meisten vom Klimawandel betroffen?', 'Kinder', 1)\n",
      "('Welche Bevölkerungsgruppe ist am meisten vom Klimawandel betroffen?', 'Ältere Menschen', 1)\n",
      "('Welche Bevölkerungsgruppe ist am meisten vom Klimawandel betroffen?', 'Gesunde Menschen mittleren Alters', 0)\n",
      "('Wie können Einzelpersonen dazu beitragen, die globale Erwärmung zu reduzieren?', 'Öffentliche Verkehrsmittel nutzen', 1)\n",
      "('Wie können Einzelpersonen dazu beitragen, die globale Erwärmung zu reduzieren?', 'Weniger Fleisch konsumieren', 1)\n",
      "('Wie können Einzelpersonen dazu beitragen, die globale Erwärmung zu reduzieren?', 'Klimaanlagen intensiver nutzen', 0)\n",
      "('Wie können Einzelpersonen dazu beitragen, die globale Erwärmung zu reduzieren?', 'Mehr Auto fahren', 0)\n"
     ]
    }
   ],
   "source": [
    "# Fetch questions and their associated answers\n",
    "cur.execute(\"\"\"\n",
    "    SELECT q.question_text, a.answer, a.is_correct\n",
    "    FROM Question q\n",
    "    JOIN Answer a ON q.id = a.question_id\n",
    "    LIMIT 12\n",
    "\"\"\")\n",
    "rows = cur.fetchall()\n",
    "\n",
    "for row in rows:\n",
    "    print(row)\n",
    "\n",
    "conn.close()\n"
   ]
  },
  {
   "cell_type": "code",
   "execution_count": 40,
   "metadata": {},
   "outputs": [],
   "source": [
    "conn.close()"
   ]
  }
 ],
 "metadata": {
  "kernelspec": {
   "display_name": ".venv",
   "language": "python",
   "name": "python3"
  },
  "language_info": {
   "codemirror_mode": {
    "name": "ipython",
    "version": 3
   },
   "file_extension": ".py",
   "mimetype": "text/x-python",
   "name": "python",
   "nbconvert_exporter": "python",
   "pygments_lexer": "ipython3",
   "version": "3.12.6"
  }
 },
 "nbformat": 4,
 "nbformat_minor": 2
}
