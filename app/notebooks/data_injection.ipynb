{
 "cells": [
  {
   "cell_type": "markdown",
   "metadata": {},
   "source": [
    "# Adding the test data to our database"
   ]
  },
  {
   "cell_type": "code",
   "execution_count": 1,
   "metadata": {},
   "outputs": [],
   "source": [
    "import sqlite3"
   ]
  },
  {
   "cell_type": "code",
   "execution_count": 50,
   "metadata": {},
   "outputs": [],
   "source": [
    "conn = sqlite3.connect(\"../database/db.sql\")\n",
    "cur = conn.cursor()"
   ]
  },
  {
   "cell_type": "code",
   "execution_count": 20,
   "metadata": {},
   "outputs": [],
   "source": [
    "import pandas as pd\n",
    "\n",
    "df = pd.read_csv(\"/Users/adrianselk/Desktop/DHBW-Projekte/magumba/assets/test_questions.csv\")"
   ]
  },
  {
   "cell_type": "code",
   "execution_count": 21,
   "metadata": {},
   "outputs": [
    {
     "data": {
      "text/html": [
       "<div>\n",
       "<style scoped>\n",
       "    .dataframe tbody tr th:only-of-type {\n",
       "        vertical-align: middle;\n",
       "    }\n",
       "\n",
       "    .dataframe tbody tr th {\n",
       "        vertical-align: top;\n",
       "    }\n",
       "\n",
       "    .dataframe thead th {\n",
       "        text-align: right;\n",
       "    }\n",
       "</style>\n",
       "<table border=\"1\" class=\"dataframe\">\n",
       "  <thead>\n",
       "    <tr style=\"text-align: right;\">\n",
       "      <th></th>\n",
       "      <th>question</th>\n",
       "      <th>answer1</th>\n",
       "      <th>answer2</th>\n",
       "      <th>answer3</th>\n",
       "      <th>answer4</th>\n",
       "      <th>correct_answers</th>\n",
       "      <th>points</th>\n",
       "    </tr>\n",
       "  </thead>\n",
       "  <tbody>\n",
       "    <tr>\n",
       "      <th>0</th>\n",
       "      <td>Was ist ein großes Risiko des Klimawandels für...</td>\n",
       "      <td>Erhöhte Belastung durch hitzebedingte Krankheiten</td>\n",
       "      <td>Unterbrechung der Gesundheitsdienste durch ext...</td>\n",
       "      <td>Verbesserte Luftqualität</td>\n",
       "      <td>Sinkende Krankheitsraten</td>\n",
       "      <td>[\"Erhöhte Belastung durch hitzebedingte Krankh...</td>\n",
       "      <td>3</td>\n",
       "    </tr>\n",
       "    <tr>\n",
       "      <th>1</th>\n",
       "      <td>Welche Bevölkerungsgruppe ist am meisten vom K...</td>\n",
       "      <td>Junge Erwachsene</td>\n",
       "      <td>Kinder</td>\n",
       "      <td>Ältere Menschen</td>\n",
       "      <td>Gesunde Menschen mittleren Alters</td>\n",
       "      <td>[\"Kinder\", \"Ältere Menschen\"]</td>\n",
       "      <td>2</td>\n",
       "    </tr>\n",
       "    <tr>\n",
       "      <th>2</th>\n",
       "      <td>Wie können Einzelpersonen dazu beitragen, die ...</td>\n",
       "      <td>Öffentliche Verkehrsmittel nutzen</td>\n",
       "      <td>Weniger Fleisch konsumieren</td>\n",
       "      <td>Klimaanlagen intensiver nutzen</td>\n",
       "      <td>Mehr Auto fahren</td>\n",
       "      <td>[\"Öffentliche Verkehrsmittel nutzen\", \"Weniger...</td>\n",
       "      <td>2</td>\n",
       "    </tr>\n",
       "    <tr>\n",
       "      <th>3</th>\n",
       "      <td>Welches Gesundheitsproblem steht in direktem Z...</td>\n",
       "      <td>Herzkrankheiten</td>\n",
       "      <td>Atemwegserkrankungen</td>\n",
       "      <td>Erhöhte Inzidenz von Infektionskrankheiten</td>\n",
       "      <td>Fettleibigkeit</td>\n",
       "      <td>[\"Atemwegserkrankungen\", \"Erhöhte Inzidenz von...</td>\n",
       "      <td>1</td>\n",
       "    </tr>\n",
       "    <tr>\n",
       "      <th>4</th>\n",
       "      <td>Welches der folgenden Ziele ist ein Nachhaltig...</td>\n",
       "      <td>Bezahlbare und saubere Energie</td>\n",
       "      <td>Kein Hunger</td>\n",
       "      <td>Maximaler Ressourcenverbrauch</td>\n",
       "      <td>Unbegrenztes Wirtschaftswachstum</td>\n",
       "      <td>[\"Bezahlbare und saubere Energie\", \"Kein Hunger\"]</td>\n",
       "      <td>3</td>\n",
       "    </tr>\n",
       "  </tbody>\n",
       "</table>\n",
       "</div>"
      ],
      "text/plain": [
       "                                            question  \\\n",
       "0  Was ist ein großes Risiko des Klimawandels für...   \n",
       "1  Welche Bevölkerungsgruppe ist am meisten vom K...   \n",
       "2  Wie können Einzelpersonen dazu beitragen, die ...   \n",
       "3  Welches Gesundheitsproblem steht in direktem Z...   \n",
       "4  Welches der folgenden Ziele ist ein Nachhaltig...   \n",
       "\n",
       "                                             answer1  \\\n",
       "0  Erhöhte Belastung durch hitzebedingte Krankheiten   \n",
       "1                                   Junge Erwachsene   \n",
       "2                  Öffentliche Verkehrsmittel nutzen   \n",
       "3                                    Herzkrankheiten   \n",
       "4                     Bezahlbare und saubere Energie   \n",
       "\n",
       "                                             answer2  \\\n",
       "0  Unterbrechung der Gesundheitsdienste durch ext...   \n",
       "1                                             Kinder   \n",
       "2                        Weniger Fleisch konsumieren   \n",
       "3                               Atemwegserkrankungen   \n",
       "4                                        Kein Hunger   \n",
       "\n",
       "                                      answer3  \\\n",
       "0                    Verbesserte Luftqualität   \n",
       "1                             Ältere Menschen   \n",
       "2              Klimaanlagen intensiver nutzen   \n",
       "3  Erhöhte Inzidenz von Infektionskrankheiten   \n",
       "4               Maximaler Ressourcenverbrauch   \n",
       "\n",
       "                             answer4  \\\n",
       "0           Sinkende Krankheitsraten   \n",
       "1  Gesunde Menschen mittleren Alters   \n",
       "2                   Mehr Auto fahren   \n",
       "3                     Fettleibigkeit   \n",
       "4   Unbegrenztes Wirtschaftswachstum   \n",
       "\n",
       "                                     correct_answers   points  \n",
       "0  [\"Erhöhte Belastung durch hitzebedingte Krankh...        3  \n",
       "1                      [\"Kinder\", \"Ältere Menschen\"]        2  \n",
       "2  [\"Öffentliche Verkehrsmittel nutzen\", \"Weniger...        2  \n",
       "3  [\"Atemwegserkrankungen\", \"Erhöhte Inzidenz von...        1  \n",
       "4  [\"Bezahlbare und saubere Energie\", \"Kein Hunger\"]        3  "
      ]
     },
     "execution_count": 21,
     "metadata": {},
     "output_type": "execute_result"
    }
   ],
   "source": [
    "df.head()"
   ]
  },
  {
   "cell_type": "code",
   "execution_count": 39,
   "metadata": {},
   "outputs": [],
   "source": [
    "# Function to clear the Question and Answer tables\n",
    "def clear_tables():\n",
    "    cur.execute(\"DELETE FROM Answer\")\n",
    "    cur.execute(\"DELETE FROM Question\")\n",
    "    conn.commit()\n",
    "clear_tables()\n"
   ]
  },
  {
   "cell_type": "code",
   "execution_count": 41,
   "metadata": {},
   "outputs": [],
   "source": [
    "import csv\n",
    "import uuid\n",
    "import ast\n",
    "\n",
    "# Function to insert data from CSV into the database\n",
    "def insert_data_from_csv(csv_file):\n",
    "    with open(csv_file, newline='', encoding='utf-8') as f:\n",
    "        reader = csv.DictReader(f)\n",
    "        \n",
    "        for row in reader:\n",
    "            # generate a unique ID for the question\n",
    "            question_id = str(uuid.uuid4())\n",
    "            question_text = row['question']\n",
    "            points = int(row['points'])\n",
    "            \n",
    "            # insert the question into the Question table\n",
    "            cur.execute(\"INSERT INTO Question (id, question_text, points) VALUES (?, ?, ?)\",\n",
    "                        (question_id, question_text, points))\n",
    "            \n",
    "            # extract answers and the correct answers list\n",
    "            answers = [row['answer1'], row['answer2'], row['answer3'], row['answer4']]\n",
    "            correct_answers = ast.literal_eval(row['correct_answers'])  # Convert correct_answers string to list\n",
    "            \n",
    "            # insert each answer into the Answer table\n",
    "            for answer in answers:\n",
    "                answer_id = str(uuid.uuid4())  # generate unique ID for each answer\n",
    "                \n",
    "                # determine if the current answer is correct\n",
    "                is_correct = answer in correct_answers\n",
    "                \n",
    "                # Insert the answer into the Answer table\n",
    "                cur.execute(\"INSERT INTO Answer (id, question_id, answer, is_correct, explanation) VALUES (?, ?, ?, ?, ?)\",\n",
    "                            (answer_id, question_id, answer, is_correct, \"\"))  # empty explanation for now\n",
    "            \n",
    "        conn.commit()\n",
    "\n",
    "csv_file = '/Users/adrianselk/Desktop/DHBW-Projekte/magumba/assets/test_questions.csv'\n",
    "insert_data_from_csv(csv_file)\n",
    "\n"
   ]
  },
  {
   "cell_type": "code",
   "execution_count": 42,
   "metadata": {},
   "outputs": [
    {
     "name": "stdout",
     "output_type": "stream",
     "text": [
      "('8b39033f-9201-4e9b-9bbc-918f2660d345', '8e4c7047-400f-4632-a5f4-26f52677eda6', 'Erhöhte Belastung durch hitzebedingte Krankheiten', 1, '')\n",
      "('2c421d28-142a-433b-b1bf-5579ade26b7c', '8e4c7047-400f-4632-a5f4-26f52677eda6', 'Unterbrechung der Gesundheitsdienste durch extreme Wetterereignisse', 1, '')\n",
      "('fb46e2d7-0e84-4439-bf34-238f4d41ac3d', '8e4c7047-400f-4632-a5f4-26f52677eda6', 'Verbesserte Luftqualität', 0, '')\n",
      "('ad50d999-c62c-4877-82e9-b035fb9937f8', '8e4c7047-400f-4632-a5f4-26f52677eda6', 'Sinkende Krankheitsraten', 0, '')\n",
      "('9ebaca15-dcb2-42f0-a025-93c377e6ce85', 'd51e85d5-00ed-43c6-a629-d7415ec0cb16', 'Junge Erwachsene', 0, '')\n",
      "('43e291b7-193a-4e09-93e9-e109f764cfc7', 'd51e85d5-00ed-43c6-a629-d7415ec0cb16', 'Kinder', 1, '')\n",
      "('a7d1e132-7e69-445f-b8ad-8724ae95434b', 'd51e85d5-00ed-43c6-a629-d7415ec0cb16', 'Ältere Menschen', 1, '')\n",
      "('2d874878-5d01-4333-83de-345fb2f060c9', 'd51e85d5-00ed-43c6-a629-d7415ec0cb16', 'Gesunde Menschen mittleren Alters', 0, '')\n",
      "('6e852fdf-7457-48fb-98ee-04fdd713ed3e', '604bc4e2-73e1-4858-9914-0c87b6a7b56a', 'Öffentliche Verkehrsmittel nutzen', 1, '')\n",
      "('ff904e72-bceb-47ff-a6d3-92b60b36b7a9', '604bc4e2-73e1-4858-9914-0c87b6a7b56a', 'Weniger Fleisch konsumieren', 1, '')\n",
      "('856e4406-77e2-4fbf-9db4-f88071fe8599', '604bc4e2-73e1-4858-9914-0c87b6a7b56a', 'Klimaanlagen intensiver nutzen', 0, '')\n",
      "('13078fff-c0ab-440f-99a3-26ac2df801d3', '604bc4e2-73e1-4858-9914-0c87b6a7b56a', 'Mehr Auto fahren', 0, '')\n",
      "('1a93192b-08f6-43a2-b70c-0200663dbc7f', '74bf5892-aede-49bf-b6ab-9e4afa571b15', 'Herzkrankheiten', 0, '')\n",
      "('c903e8f6-dc7b-401f-bd5a-5f41f4110b8a', '74bf5892-aede-49bf-b6ab-9e4afa571b15', 'Atemwegserkrankungen', 1, '')\n",
      "('173c70ad-dfa1-4ebc-94f3-e1307d1f6900', '74bf5892-aede-49bf-b6ab-9e4afa571b15', 'Erhöhte Inzidenz von Infektionskrankheiten', 1, '')\n",
      "('068a652d-00ac-45c5-add0-044459df83cc', '74bf5892-aede-49bf-b6ab-9e4afa571b15', 'Fettleibigkeit', 0, '')\n",
      "('8c90636a-599d-463a-af81-d5b6bf260b59', '89ff5587-b543-4d56-b10a-85d275060376', 'Bezahlbare und saubere Energie', 1, '')\n",
      "('2718f7ac-f711-492b-b9b7-da25e6af1eab', '89ff5587-b543-4d56-b10a-85d275060376', 'Kein Hunger', 1, '')\n",
      "('d31d700b-40eb-4f4b-aff2-63f63adfaf5b', '89ff5587-b543-4d56-b10a-85d275060376', 'Maximaler Ressourcenverbrauch', 0, '')\n",
      "('8531730f-dcb7-4931-bfaf-01da9ba9bf49', '89ff5587-b543-4d56-b10a-85d275060376', 'Unbegrenztes Wirtschaftswachstum', 0, '')\n"
     ]
    }
   ],
   "source": [
    "# testing how Answer table looks like\n",
    "cur.execute(\"\"\"\n",
    "    SELECT *\n",
    "    FROM ANSWER\n",
    "    LIMIT 20\n",
    "\"\"\")\n",
    "rows = cur.fetchall()\n",
    "\n",
    "for row in rows:\n",
    "    print(row)\n"
   ]
  },
  {
   "cell_type": "code",
   "execution_count": 47,
   "metadata": {},
   "outputs": [
    {
     "name": "stdout",
     "output_type": "stream",
     "text": [
      "('8e4c7047-400f-4632-a5f4-26f52677eda6', 'Was ist ein großes Risiko des Klimawandels für Gesundheitssysteme?', 3)\n",
      "('d51e85d5-00ed-43c6-a629-d7415ec0cb16', 'Welche Bevölkerungsgruppe ist am meisten vom Klimawandel betroffen?', 2)\n",
      "('604bc4e2-73e1-4858-9914-0c87b6a7b56a', 'Wie können Einzelpersonen dazu beitragen, die globale Erwärmung zu reduzieren?', 2)\n",
      "('74bf5892-aede-49bf-b6ab-9e4afa571b15', 'Welches Gesundheitsproblem steht in direktem Zusammenhang mit dem Klimawandel?', 1)\n",
      "('89ff5587-b543-4d56-b10a-85d275060376', 'Welches der folgenden Ziele ist ein Nachhaltigkeitsziel (SDG)?', 3)\n"
     ]
    }
   ],
   "source": [
    "# testing how Question table looks like\n",
    "cur.execute(\"\"\"\n",
    "    SELECT *\n",
    "    FROM Question\n",
    "    LIMIT 5\n",
    "\"\"\")\n",
    "rows = cur.fetchall()\n",
    "\n",
    "for row in rows:\n",
    "    print(row)"
   ]
  },
  {
   "cell_type": "code",
   "execution_count": 51,
   "metadata": {},
   "outputs": [
    {
     "name": "stdout",
     "output_type": "stream",
     "text": [
      "('Was ist ein großes Risiko des Klimawandels für Gesundheitssysteme?', 'Erhöhte Belastung durch hitzebedingte Krankheiten', 1)\n",
      "('Was ist ein großes Risiko des Klimawandels für Gesundheitssysteme?', 'Unterbrechung der Gesundheitsdienste durch extreme Wetterereignisse', 1)\n",
      "('Was ist ein großes Risiko des Klimawandels für Gesundheitssysteme?', 'Verbesserte Luftqualität', 0)\n",
      "('Was ist ein großes Risiko des Klimawandels für Gesundheitssysteme?', 'Sinkende Krankheitsraten', 0)\n",
      "('Welche Bevölkerungsgruppe ist am meisten vom Klimawandel betroffen?', 'Junge Erwachsene', 0)\n",
      "('Welche Bevölkerungsgruppe ist am meisten vom Klimawandel betroffen?', 'Kinder', 1)\n",
      "('Welche Bevölkerungsgruppe ist am meisten vom Klimawandel betroffen?', 'Ältere Menschen', 1)\n",
      "('Welche Bevölkerungsgruppe ist am meisten vom Klimawandel betroffen?', 'Gesunde Menschen mittleren Alters', 0)\n",
      "('Wie können Einzelpersonen dazu beitragen, die globale Erwärmung zu reduzieren?', 'Öffentliche Verkehrsmittel nutzen', 1)\n",
      "('Wie können Einzelpersonen dazu beitragen, die globale Erwärmung zu reduzieren?', 'Weniger Fleisch konsumieren', 1)\n",
      "('Wie können Einzelpersonen dazu beitragen, die globale Erwärmung zu reduzieren?', 'Klimaanlagen intensiver nutzen', 0)\n",
      "('Wie können Einzelpersonen dazu beitragen, die globale Erwärmung zu reduzieren?', 'Mehr Auto fahren', 0)\n"
     ]
    }
   ],
   "source": [
    "# Fetch questions and their associated answers\n",
    "cur.execute(\"\"\"\n",
    "    SELECT q.question_text, a.answer, a.is_correct\n",
    "    FROM Question q\n",
    "    JOIN Answer a ON q.id = a.question_id\n",
    "    LIMIT 12\n",
    "\"\"\")\n",
    "rows = cur.fetchall()\n",
    "\n",
    "for row in rows:\n",
    "    print(row)\n",
    "\n",
    "conn.close()\n"
   ]
  },
  {
   "cell_type": "code",
   "execution_count": 52,
   "metadata": {},
   "outputs": [],
   "source": [
    "conn.close()"
   ]
  }
 ],
 "metadata": {
  "kernelspec": {
   "display_name": ".venv",
   "language": "python",
   "name": "python3"
  },
  "language_info": {
   "codemirror_mode": {
    "name": "ipython",
    "version": 3
   },
   "file_extension": ".py",
   "mimetype": "text/x-python",
   "name": "python",
   "nbconvert_exporter": "python",
   "pygments_lexer": "ipython3",
   "version": "3.12.6"
  }
 },
 "nbformat": 4,
 "nbformat_minor": 2
}
